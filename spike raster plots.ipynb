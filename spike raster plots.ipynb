{
 "cells": [
  {
   "cell_type": "markdown",
   "id": "b9d59fce",
   "metadata": {},
   "source": [
    "### rasterizing raster plots\n",
    "\n",
    "- original code for making raster plots from https://gist.github.com/kylerbrown/5530238\n",
    "- save to SVG with dpi=600 for publication quality figures\n",
    "- scrub the SVG to make editing easier in Inkscape  \n",
    "    - e.g. no need for deep ungroup and all labels are individual graphic elements  \n",
    "    \n",
    "- scour repository: https://github.com/scour-project/scour  \n",
    "- docs: https://github.com/scour-project/scour/wiki/Documentation  \n",
    "- install using conda: conda install -c conda-forge scour  \n",
    "\n",
    "_if interested, scour can be used directly in a notebook following guidance here:_  \n",
    " https://stackoverflow.com/questions/50891715/run-python-scour-svg-optimizer-from-script-in-stead-of-the-cli"
   ]
  },
  {
   "cell_type": "code",
   "execution_count": 1,
   "id": "da043606",
   "metadata": {},
   "outputs": [],
   "source": [
    "import os\n",
    "import numpy as np\n",
    "import pandas as pd\n",
    "import matplotlib as mpl\n",
    "import matplotlib.pyplot as plt\n",
    "import seaborn as sns\n",
    "%matplotlib inline"
   ]
  },
  {
   "cell_type": "code",
   "execution_count": 2,
   "id": "e1d32a58",
   "metadata": {},
   "outputs": [],
   "source": [
    "def raster(event_times_list, color='k'):\n",
    "    \"\"\"\n",
    "    Creates a raster plot **with spikes saved at 300 dpi as raster art**\n",
    "    \n",
    "    Original code from https://gist.github.com/kylerbrown/5530238\n",
    "\n",
    "    Parameters\n",
    "    ----------\n",
    "    event_times_list : iterable\n",
    "                       a list of event time iterables\n",
    "    color : string\n",
    "            color of vlines\n",
    "\n",
    "    Returns\n",
    "    -------\n",
    "    ax : an axis containing the raster plot\n",
    "    \n",
    "    This version attempts to rasterize the plot\n",
    "    Reference: https://matplotlib.org/stable/gallery/misc/rasterization_demo.html\n",
    "    \"\"\"\n",
    "    ax = plt.gca()\n",
    "    for ith, trial in enumerate(event_times_list):\n",
    "        plt.vlines(trial, ith + .5, ith + 1.5, color=color, rasterized=True)\n",
    "    plt.ylim(.5, len(event_times_list) + .5)\n",
    "    return ax"
   ]
  },
  {
   "cell_type": "code",
   "execution_count": 3,
   "id": "6d38a2ad",
   "metadata": {},
   "outputs": [],
   "source": [
    "def scourfig(file):\n",
    "    # simple function to call the scour library to simplify SVGs made with matplotlib  \n",
    "    # using \"maximum scrubbing\" as described in the project's github repo\n",
    "    os.system('cp '+file+' temp.svg')\n",
    "    os.system('scour -i temp.svg -o '+file+' --enable-viewboxing --enable-id-stripping \\\n",
    "        --enable-comment-stripping --shorten-ids --indent=none')\n",
    "    os.remove('temp.svg')"
   ]
  },
  {
   "cell_type": "markdown",
   "id": "2ea24e65",
   "metadata": {},
   "source": [
    "**MG01_10202022-chan24_centerPokes_PEHmat**\n",
    "\n",
    "The data are from a visually guided choice task (Swanson, White, et al., 2021; https://www.eneuro.org/content/8/3/ENEURO.0563-20.2021).  \n",
    "\n",
    "Rats nosepoke into a center port to produce visual stimuli from two laterally adjacent choice ports and collect liquid sucrose rewards from a port on the opposite wall of the behavioral chamber.  \n",
    "\n",
    "Neural activity was recorded using arrays of microwire electrodes and Open Ephys recording system. The data rate for the spikes was 30kHz.  \n",
    "\n",
    "This single unit fired selectively during left responses, as the rat entered the left choice port and during travel to the reward port.  \n",
    "\n",
    "A PDF file showing the neuron's activity broken out by response location and sorted by choice latency is included in this repository. The plots show spike rasters and spike density functions for trials with left and right responses.  \n",
    "\n",
    "These data were collected by Samantha White in the Laubach Lab as part of her dissertation research and will be reported in a forthcoming manuscript."
   ]
  },
  {
   "cell_type": "code",
   "execution_count": 4,
   "id": "480b3583",
   "metadata": {
    "scrolled": false
   },
   "outputs": [
    {
     "name": "stdout",
     "output_type": "stream",
     "text": [
      "/home/mark/Desktop/scour and rasters/data\n"
     ]
    }
   ],
   "source": [
    "cd data"
   ]
  },
  {
   "cell_type": "code",
   "execution_count": 5,
   "id": "8430a1c6",
   "metadata": {},
   "outputs": [],
   "source": [
    "Behavior = pd.read_csv('MG01_10202022_trialinfo.csv', index_col=0)\n",
    "\n",
    "Latency = np.asarray(Behavior[Behavior.Valid==1].RespLat)\n",
    "\n",
    "PEH = np.load('MG01_10202022-chan24_centerPokes_PEHmat.npy')\n",
    "SDF = np.load('MG01_10202022-chan24_centerPokes_SDFmat.npy')"
   ]
  },
  {
   "cell_type": "code",
   "execution_count": 6,
   "id": "13a8b2b0",
   "metadata": {
    "scrolled": false
   },
   "outputs": [
    {
     "name": "stdout",
     "output_type": "stream",
     "text": [
      "Scour processed file \"temp.svg\" in 112 ms: 136892/158404 bytes new/orig -> 86.4%\n"
     ]
    },
    {
     "data": {
      "image/png": "[encoded data removed]",
      "text/plain": [
       "<Figure size 640x480 with 1 Axes>"
      ]
     },
     "metadata": {},
     "output_type": "display_data"
    }
   ],
   "source": [
    "# collect spikes for plot\n",
    "spk = []\n",
    "for i in np.argsort(Latency):\n",
    "    spk.append(np.nonzero(PEH[Behavior.Valid==1][i,:]))\n",
    "    \n",
    "# raster plot\n",
    "raster(spk, color=\"tab:blue\")\n",
    "trials = PEH[(Behavior.Valid==1)].shape[0]\n",
    "plt.axis((0,120000,0,trials))\n",
    "plt.ylabel('Trial')\n",
    "plt.xticks((0,30000,60000,90000,120000), labels=('-2','-1','0','1','2'))\n",
    "\n",
    "# add shading for data window for GLM analysis\n",
    "# ===this element must also be set with zorder=-11 (1 less than the spike rasters)\n",
    "#     or else the shading is on top of the raster===\n",
    "plt.axvspan(60001, 90000, 0, trials, facecolor='0.75', alpha=0.5, zorder=-1)\n",
    "\n",
    "# add symbols for choice port entries\n",
    "SidePortEntry = np.sort(Latency * 30000 + 60000)\n",
    "for tr,ti in enumerate(SidePortEntry):\n",
    "    plt.plot(ti, tr, linestyle=None, marker='o', markersize=2, alpha=0.5,\n",
    "            markeredgewidth=0.0, markerfacecolor='k')\n",
    "    \n",
    "# save plot to SVG file, with dpi=600 for the spike rasters\n",
    "plt.savefig('raster_demo.svg', dpi=600)\n",
    "\n",
    "# scrub the SVG using the scour library\n",
    "scourfig('raster_demo.svg')"
   ]
  }
 ],
 "metadata": {
  "kernelspec": {
   "display_name": "Python 3 (ipykernel)",
   "language": "python",
   "name": "python3"
  },
  "language_info": {
   "codemirror_mode": {
    "name": "ipython",
    "version": 3
   },
   "file_extension": ".py",
   "mimetype": "text/x-python",
   "name": "python",
   "nbconvert_exporter": "python",
   "pygments_lexer": "ipython3",
   "version": "3.10.11"
  }
 },
 "nbformat": 4,
 "nbformat_minor": 5
}
